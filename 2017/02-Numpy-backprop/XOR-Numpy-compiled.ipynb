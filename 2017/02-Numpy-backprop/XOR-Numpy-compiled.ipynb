{
 "cells": [
  {
   "cell_type": "markdown",
   "metadata": {
    "deletable": true,
    "editable": true
   },
   "source": [
    "# Copyright\n",
    "\n",
    "<PRE>\n",
    "Jelen iPython notebook a Budapesti Műszaki és Gazdaságtudományi Egyetemen tartott \"Deep Learning a gyakorlatban Python és LUA alapon\" tantárgy segédanyagaként készült. \n",
    "A tantárgy honlapja: http://smartlab.tmit.bme.hu/oktatas-deep-learning\n",
    "Deep Learning kutatás: http://smartlab.tmit.bme.hu/deep-learning\n",
    "Jelen notebook Nicolas P. Rougier munkája alapján készült, melyet BSD licensz véd: http://www.labri.fr/perso/nrougier/downloads/mlp.py\n",
    "\n",
    "A notebook bármely részének újra felhasználása, publikálása csak a szerzők írásos beleegyezése esetén megegengedett.\n",
    "\n",
    "2017 (c) Gyires-Tóth Bálint (toth.b kukac tmit pont bme pont hu), Császár Márk\n",
    "</PRE>"
   ]
  },
  {
   "cell_type": "markdown",
   "metadata": {
    "deletable": true,
    "editable": true
   },
   "source": [
    "# XOR feladat neuron hálós megközelítése"
   ]
  },
  {
   "cell_type": "markdown",
   "metadata": {
    "deletable": true,
    "editable": true
   },
   "source": [
    "Először a historikisan is nagy jelentőségű XOR problémát (aminek közvetve köszönhetjük a backpropagation algoritmust) fogjuk megoldani \"pure\" Python-ban. \n",
    "\n",
    "A XOR probléma a gépi tanulás szempontjából azért érdekes, mert míg az AND és az OR logikai függvények architektúrális szempontból megoldhatóak egyetlen neuron segítségével, addig a XOR-ra ez nem teljesül. Az AND és az OR esetében létezik a függvény által felveheto kimeneti értékek között egy olyan hipersík (szeparálósík), amely segítségével egyértelmű a szeparáció.\n",
    "\n",
    "A XOR probléma további tárgyalásához tekintsük az alábbi igazságtáblát:\n",
    "\n",
    "\n",
    "  A     | B   | A XOR B\n",
    "  :----:| :----:|:--------:\n",
    "  0     | 0   |    0\n",
    "  1     | 0   |    1\n",
    "  0     | 1   |    1\n",
    "  1     | 1   |    0"
   ]
  },
  {
   "cell_type": "code",
   "execution_count": 44,
   "metadata": {
    "collapsed": false,
    "deletable": true,
    "editable": true
   },
   "outputs": [
    {
     "name": "stdout",
     "output_type": "stream",
     "text": [
      "Populating the interactive namespace from numpy and matplotlib\n"
     ]
    },
    {
     "data": {
      "image/png": "[encoded data removed]",
      "text/plain": [
       "<matplotlib.figure.Figure at 0x7f8e38d31550>"
      ]
     },
     "metadata": {},
     "output_type": "display_data"
    }
   ],
   "source": [
    "# Pylab grafikus megjelenítocsomag meghívása (a % jel a notebook miatt szükséges)\n",
    "%pylab inline\n",
    "\n",
    "# \"Igaz\" logikai értékek megadása\n",
    "true_x = [1, 0]\n",
    "true_y = [0, 1]\n",
    "\n",
    "# \"Hamis\" logikai értékek megadása\n",
    "false_x = [0, 1]\n",
    "false_y = [0, 1]\n",
    "\n",
    "# Jelöljük pirossal a hamis logikai értékeket, zölddel pedig az igazakat.\n",
    "plot1 = plt.plot(true_x, true_y,'gs')\n",
    "plot2 = plt.plot(false_x, false_y, 'rs')\n",
    "\n",
    "# A jobb ábrázálhatóság miatt, szélesebb tartományokat jelenítünk meg\n",
    "plt.xlim(-0.5, 1.5)\n",
    "plt.ylim(-0.5, 1.5)\n",
    "# Négyzetrács megjelenítése\n",
    "plt.grid(True)\n",
    "# Az x és y tengely megjelenítése\n",
    "plt.axhline(0, linestyle='dashed')\n",
    "plt.axvline(0, linestyle='dashed')\n",
    "# Az ábra kirajzolása\n",
    "plt.show()"
   ]
  },
  {
   "cell_type": "markdown",
   "metadata": {
    "deletable": true,
    "editable": true
   },
   "source": [
    "Mint ahogy a fenti ábrán is látszódik, nem tudjuk egyetlen szeparáló síkkal (2 dimenzióban egyenessel) külön választani az igaz és a hamis értékeket.\n",
    "\n",
    "Mivel egyetlen síkkal nem tudjuk szétválasztani a kimeneteket ezért a neurális hálózat be- és kimeneti rétege közé szükségszerű, hogy további, un. rejtett réteg(ek)et illesszünk be. "
   ]
  },
  {
   "cell_type": "markdown",
   "metadata": {
    "deletable": true,
    "editable": true
   },
   "source": [
    "Mielőtt a konkrét programkóddal ismerkednénk meg, tekintsük át egy mesterséges neurális hálózat általános architektúráját, felépítését. Ahhoz, hogy neurális hálózatunk felügyelt tanítás során rendeltetésszerűen működjön, szükségünk van:\n",
    "\n",
    " - Tanító adatokra (bemenet és felügyelt esetben kimenet),\n",
    " - Magára a neurális hálózatra, amely magában foglal:\n",
    "   - bemeneti réteget, egy kimeneti réteget, illetve köztük elhelyezkedo rejtett réteg(ek)et,\n",
    "   - rétegenként tetszőleges számú neuronokat, \n",
    "   - a rétegeket összekötő, különböző súlyokkal rendelkező éleket,\n",
    "   - a neuronokon elvégzett lineáris (súlyozott összegzés), illetve nem lineáris függvényeket (pl. sigmoid, tanh, ReLU, stb.).\n",
    " - Tanítási fázist:\n",
    "   - a bemenő adatokat \"végigküldjük\" a hálózaton (forward propagation),\n",
    "   - a bemenő adatok alapján kiszámoljuk a hálózat által \"jósolt\" eredményt,\n",
    "   - a jósolt eredmény és a tanító adatokban szereplő elvárt eredmény közötti kapcsolat kiszámítása (költségfüggvény),\n",
    "   - a kapott hibaérték visszaterjesztése (backpropagation) a hálózaton, a láncszabály és a parciális deriválás módszerével (gradiensek kiszámítása)\n",
    "   - a rétegek közötti súlyok frissítését a gradiensek segítségével.\n",
    "   \n",
    "Első lépésként importáljuk a már jól ismert Numpy csomagot, amire np-ként fogunk hivatkozni, illetve a további szükséges csomagokat:"
   ]
  },
  {
   "cell_type": "code",
   "execution_count": 45,
   "metadata": {
    "collapsed": true,
    "deletable": true,
    "editable": true
   },
   "outputs": [],
   "source": [
    "import numpy as np\n",
    "from sklearn import preprocessing\n",
    "import copy"
   ]
  },
  {
   "cell_type": "markdown",
   "metadata": {
    "deletable": true,
    "editable": true
   },
   "source": [
    "Töltsük be a matplotlib grafikus megjelenítőt:"
   ]
  },
  {
   "cell_type": "code",
   "execution_count": 46,
   "metadata": {
    "collapsed": true,
    "deletable": true,
    "editable": true
   },
   "outputs": [],
   "source": [
    "%matplotlib inline"
   ]
  },
  {
   "cell_type": "markdown",
   "metadata": {
    "deletable": true,
    "editable": true
   },
   "source": [
    "Az aktivációs függvény definiálása. A \"forward\" lépésben a hálózatot alkotó neuronokkal két műveletet hajtunk végre: (1) Egy súlyozott lineáris összegzést, (2) illetve egy nemlineáris aktiválási függvényt. A lineáris függvény nem csinál mást, minthogy összegzi az adott neuronhoz beérkező értékeket a hozzá vezető súly értékével megszorozva. Ezután a kapott eredményen alkalmazzuk a nemlineáris aktivációs függvényt. Ez általában annyit csinál, hogy amennyiben az argomentuma (a korábbi szummázás)meghalad egy bizonyos küszöbértéket, akkor a neuron továbbítja a következő rétegre az adatokat. Itt a sigmoid-ot használjuk erre a célra, amit előbb definiálunk majd megnézzük, hogy hogyan néz ki:"
   ]
  },
  {
   "cell_type": "code",
   "execution_count": 47,
   "metadata": {
    "collapsed": true,
    "deletable": true,
    "editable": true
   },
   "outputs": [],
   "source": [
    "def activation(x):\n",
    "    return 1 / (1 + np.exp(-x))"
   ]
  },
  {
   "cell_type": "code",
   "execution_count": 48,
   "metadata": {
    "collapsed": false,
    "deletable": true,
    "editable": true
   },
   "outputs": [
    {
     "data": {
      "text/plain": [
       "[<matplotlib.lines.Line2D at 0x7f8e38ab5828>]"
      ]
     },
     "execution_count": 48,
     "metadata": {},
     "output_type": "execute_result"
    },
    {
     "data": {
      "image/png": "[encoded data removed]",
      "text/plain": [
       "<matplotlib.figure.Figure at 0x7f8e41a51908>"
      ]
     },
     "metadata": {},
     "output_type": "display_data"
    }
   ],
   "source": [
    "segedX=np.linspace(-6,6,200)\n",
    "# A jobb ábrázálhatóság miatt, szélesebb tartományokat jelenítünk meg\n",
    "plt.xlim(-6, 6)\n",
    "plt.ylim(-0.5, 1.5)\n",
    "# Az x és y tengely megjelenítése\n",
    "plt.axhline(0, linestyle='dashed')\n",
    "plt.axvline(0, linestyle='dashed')\n",
    "plt.plot(segedX,activation(segedX))"
   ]
  },
  {
   "cell_type": "markdown",
   "metadata": {
    "deletable": true,
    "editable": true
   },
   "source": [
    "Következőnek definiáljuk az aktivációs függvény deriváltját. A tanítási fázis során, a hiba végigterjesztésekor (backpropagation) az aktivációs függvényt, azaz annak a deriváltját használjuk. Definiáljuk majd nézzük meg ezt is, hogy hogyan néz ki sigmoid esetén:"
   ]
  },
  {
   "cell_type": "code",
   "execution_count": 49,
   "metadata": {
    "collapsed": false,
    "deletable": true,
    "editable": true
   },
   "outputs": [
    {
     "data": {
      "text/plain": [
       "[<matplotlib.lines.Line2D at 0x7f8e38a99780>]"
      ]
     },
     "execution_count": 49,
     "metadata": {},
     "output_type": "execute_result"
    },
    {
     "data": {
      "image/png": "[encoded data removed]",
      "text/plain": [
       "<matplotlib.figure.Figure at 0x7f8e38d31588>"
      ]
     },
     "metadata": {},
     "output_type": "display_data"
    }
   ],
   "source": [
    "def dactivation(x):\n",
    "    return np.exp(-x)/((1+np.exp(-x))**2)\n",
    "plt.plot(segedX,dactivation(segedX))"
   ]
  },
  {
   "cell_type": "markdown",
   "metadata": {
    "deletable": true,
    "editable": true
   },
   "source": [
    "Most jön a java! Definiáljuk az MLP osztályt négy függvénnyel: inicializálás, súlyok resetelése, forward lépés, backward lépés."
   ]
  },
  {
   "cell_type": "code",
   "execution_count": 50,
   "metadata": {
    "collapsed": true,
    "deletable": true,
    "editable": true
   },
   "outputs": [],
   "source": [
    "# MLP osztály létrehozása.\n",
    "class MLP:\n",
    "    \n",
    "    # A hálózat inicializálása az argumentumként megadott méretek alapján.\n",
    "    def __init__(self, *args):\n",
    "        # random seed megadása\n",
    "        np.random.seed(123)\n",
    "        # A hálózat formája (rétegek száma), amely megegyezik a paraméterek számával\n",
    "        self.shape = args\n",
    "        n = len(args)\n",
    "        # Rétegek létrehozása\n",
    "        self.layers = []\n",
    "        # Bemeneti réteg létrehozása (+1 egység a BIAS-nak)\n",
    "        self.layers.append(np.ones(self.shape[0]+1))\n",
    "        # Rejtett réteg(ek) és a kimeneti réteg létrehozása\n",
    "        for i in range(1,n):\n",
    "            self.layers.append(np.ones(self.shape[i]))\n",
    "        # Súlymátrix létrehozása\n",
    "        self.weights = []\n",
    "        for i in range(n-1):\n",
    "            self.weights.append(np.zeros((self.layers[i].size,\n",
    "                                         self.layers[i+1].size)))\n",
    "        # dw fogja tartalmazni a súlyok utolsó módosításait (a momentum módszer számára)\n",
    "        self.dw = [0,]*len(self.weights)\n",
    "        # Súlyok újrainicializálása\n",
    "        self.reset()\n",
    "    \n",
    "    # Súlyok újrainicializálási függvényének definiálása\n",
    "    def reset(self):\n",
    "        for i in range(len(self.weights)):\n",
    "            # véletlen számok [0,1) tartományban \n",
    "            Z = np.random.random((self.layers[i].size,self.layers[i+1].size))\n",
    "            # átskálázzuk a súlyokat -1..1 tartományba\n",
    "            self.weights[i][...] = (2*Z-1)*1\n",
    "\n",
    "    # A bemenő adatok végigküldése a hálózaton, kimeneti rétegig (forward propagation)\n",
    "    def propagate_forward(self, data):\n",
    "        # Bemeneti réteg beállítása (tanító adatok)\n",
    "        self.layers[0][0:-1] = data\n",
    "        # Az adatok végigküldése a bemeneti rétegtől az utolsó előtti rétegig (az utolsó ugyanis a kimeneti réteg).\n",
    "        # A szigmoid aktivációs függvény használatával, mátrixszorzások alkalmazásával.\n",
    "        # Az előadáson a \"layers\" változót jelöltük \"a\"-val.\n",
    "        for i in range(1,len(self.shape)):\n",
    "            self.layers[i][...] = activation(np.dot(self.layers[i-1],self.weights[i-1]))\n",
    "        # Visszatérés a hálózat által becsült eredménnyel\n",
    "        return self.layers[-1]\n",
    "\n",
    "    # Hibavisszaterjesztés (backpropagation) definiálása. \n",
    "    # A a learning rate (tanulási ráta) paraméter befolyásolja, hogy a hálózat súlyait milyen\n",
    "    # mértékben módosítsuk a gradiens függvényében. Ha ez az érték túl magas, akkor a háló \n",
    "    # \"oszcillálhat\" egy lokális vagy globális minimum körül. Ha túl kicsi értéket választunk,\n",
    "    # akkor pedig jelentősen több időbe telik mire elérjük a legjobb megoldást vagy leakad egy lokális \n",
    "    # minimumban és sose éri el azt.\n",
    "    # Jelen implementációban a momentum is megvalósításra kerül, mely figyelembe veszi az előző\n",
    "    # epoch-ban számolt gradienst is. Ez egy fajta regularizációként működik, segíti a tanítást. \n",
    "    def propagate_backward(self, target, lrate=0.1, momentum=0.1):\n",
    "        deltas = []\n",
    "        # Hiba kiszámítása a kimeneti rétegen\n",
    "        error = -(target-self.layers[-1]) # y-y_kalap\n",
    "        # error*dactivation(s(3))\n",
    "        delta = np.multiply(error,dactivation(np.dot(self.layers[-2],self.weights[-1])))\n",
    "        deltas.append(delta)\n",
    "        # Gradiens kiszámítása a rejtett réteg(ek)ben\n",
    "        for i in range(len(self.shape)-2,0,-1):\n",
    "            # pl. utolsó rejtett réteg: delta(3)*(W(2).T)*dactivation(s(2)) (lásd előadás)\n",
    "            delta=np.dot(deltas[0],self.weights[i].T)*dactivation(np.dot(self.layers[i-1],self.weights[i-1]))\n",
    "            deltas.insert(0,delta)            \n",
    "        # Súlyok módosítása\n",
    "        for i in range(len(self.weights)):\n",
    "            layer = np.atleast_2d(self.layers[i])\n",
    "            delta = np.atleast_2d(deltas[i])\n",
    "            # pl. utolsó rétegben: delta(3)*a(2) (lásd előadás)\n",
    "            dw = -lrate*np.dot(layer.T,delta) + momentum*self.dw[i]\n",
    "            # súlyok módosítása\n",
    "            self.weights[i] += dw \n",
    "            '''\n",
    "            # \"hibás\", de működő kód\n",
    "            dw = np.dot(layer.T,delta)\n",
    "            self.weights[i] -= lrate*dw - momentum*self.dw[i]  \n",
    "            '''\n",
    "            # a súlymódosítás eltárolása\n",
    "            self.dw[i] = dw\n",
    "\n",
    "        # Visszatérés a hibával\n",
    "        return (error**2).sum()"
   ]
  },
  {
   "cell_type": "code",
   "execution_count": 51,
   "metadata": {
    "collapsed": true,
    "deletable": true,
    "editable": true
   },
   "outputs": [],
   "source": [
    "def learn(network,samples, valid_split, test_split, epochs=5000, lrate=0.01, momentum=0.9, patience=10):\n",
    "\n",
    "        # train-validation-test minták különválasztása\n",
    "        samples_train = samples[0:int(nb_samples*(1-valid_split-test_split))]\n",
    "        samples_valid = samples[int(nb_samples*(1-valid_split-test_split)):int(nb_samples*(1-test_split))]\n",
    "        samples_test  = samples[int(nb_samples*(1-test_split)):]\n",
    "    \n",
    "        # standardizálás\n",
    "        scaler = preprocessing.StandardScaler().fit(samples_train['input'])\n",
    "        samples_train['input'] = scaler.transform(samples_train['input'])\n",
    "        samples_valid['input'] = scaler.transform(samples_valid['input'])\n",
    "        samples_test['input'] = scaler.transform(samples_test['input'])    \n",
    "    \n",
    "        # keverés\n",
    "        np.random.shuffle(samples_train)\n",
    "        np.random.shuffle(samples_valid)\n",
    "        np.random.shuffle(samples_test)\n",
    "    \n",
    "        best_valid_err = np.inf\n",
    "        es_counter = 0 # early stopping counter\n",
    "        best_model = network\n",
    "    \n",
    "        # Tanítási fázis, epoch-szor megyünk át 1-1 véltelenszerűen kiválasztott mintán.\n",
    "        for i in range(epochs):\n",
    "            # Jelen megoldás azt a módszert használja, hogy a megadott \n",
    "            # tanító adatokon végigmegyünk és minden elemet először végigküldünk\n",
    "            # a hálózaton, majd terjeszti vissza a kapott eltérést az\n",
    "            # elvárt eredménytől. Ezt hívjuk SGD-ek (stochastic gradient descent).\n",
    "            train_err = 0\n",
    "            for k in range(samples_train.size):\n",
    "                network.propagate_forward( samples_train['input'][k] )\n",
    "                train_err += network.propagate_backward( samples_train['output'][k], lrate, momentum )\n",
    "            train_err /= samples_train.size\n",
    "\n",
    "            # validációs fázis\n",
    "            valid_err = 0\n",
    "            o_valid = np.zeros(samples_valid.size)\n",
    "            for k in range(samples_valid.size):\n",
    "                o_valid[k] = network.propagate_forward(samples_valid['input'][k])\n",
    "                valid_err += (o_valid[k]-samples_valid['output'][k])**2\n",
    "            valid_err /= samples_valid.size\n",
    "\n",
    "            # Legjobb modell elmentése és early stopping\n",
    "            if valid_err < best_valid_err:\n",
    "                best_valid_err = np.round(valid_err,3)\n",
    "                es_counter = 0\n",
    "                best_model = copy.copy(network)\n",
    "                print(\"New best model found\")\n",
    "            else:\n",
    "                es_counter += 1\n",
    "\n",
    "            print(\"%d epoch, train_err: %.4f, valid_err: %.4f\" % (i, train_err, valid_err))\n",
    "\n",
    "            if es_counter > patience:\n",
    "                print(\"Early stoping, loading back best model\")\n",
    "                network=best_model\n",
    "                break\n",
    "            \n",
    "        # Tesztelési fázis\n",
    "        test_err = 0\n",
    "        o_test = np.zeros(samples_test.size)\n",
    "        for k in range(samples_test.size):\n",
    "            o_test[k] = network.propagate_forward(samples_test['input'][k])\n",
    "            test_err += (o_test[k]-samples_test['output'][k])**2\n",
    "            print(k, samples_test['input'][k], '%.2f' % o_test[k], \\\n",
    "                  ' (elvart eredmeny: %.2f)' % samples_test['output'][k])\n",
    "        test_err /= samples_test.size\n",
    "\n",
    "        fig1=plt.figure()\n",
    "        plt.scatter(samples_test['input'][:,0], samples_test['input'][:,1], c=np.round(o_test[:]), cmap=plt.cm.cool)"
   ]
  },
  {
   "cell_type": "code",
   "execution_count": 52,
   "metadata": {
    "collapsed": true,
    "deletable": true,
    "editable": true
   },
   "outputs": [],
   "source": [
    "# Mesterséges neurális hálózat létrehozása, 2 bemenettel, 10 rejtett neuronnal és 1 kimenettel\n",
    "network = MLP(2,10,1)"
   ]
  },
  {
   "cell_type": "code",
   "execution_count": 53,
   "metadata": {
    "collapsed": true,
    "deletable": true,
    "editable": true
   },
   "outputs": [],
   "source": [
    "# Tanító minta táblázatának létrehozása\n",
    "samples = np.zeros(4, dtype=[('input',  float, 2), ('output', float, 1)])"
   ]
  },
  {
   "cell_type": "code",
   "execution_count": 54,
   "metadata": {
    "collapsed": false,
    "deletable": true,
    "editable": true
   },
   "outputs": [
    {
     "data": {
      "text/plain": [
       "<matplotlib.collections.PathCollection at 0x7f8e38a0bcf8>"
      ]
     },
     "execution_count": 54,
     "metadata": {},
     "output_type": "execute_result"
    },
    {
     "data": {
      "image/png": "[encoded data removed]",
      "text/plain": [
       "<matplotlib.figure.Figure at 0x7f8e38a3bf28>"
      ]
     },
     "metadata": {},
     "output_type": "display_data"
    }
   ],
   "source": [
    "# Tanító, validációs és teszt adatok megadása a rendszernek (zajjal terhelt XOR adatok)\n",
    "nb_samples=200\n",
    "samples=np.zeros(nb_samples, dtype=[('input', float, 2), ('output', float, 1)])\n",
    "for i in range(0,nb_samples,4):\n",
    "    noise = np.random.normal(0,1,8)\n",
    "    samples[i] = (-2+noise[0],-2+noise[1]), 0\n",
    "    samples[i+1] = (2+noise[2],-2+noise[3]), 1\n",
    "    samples[i+2] = (-2+noise[4],2+noise[5]), 1\n",
    "    samples[i+3] = (2+noise[6],2+noise[7]), 0\n",
    "\n",
    "# ...és az adatok kirajzolása\n",
    "fig1=plt.figure()\n",
    "plt.scatter(samples['input'][:,0],samples['input'][:,1],c=samples['output'][:], cmap=plt.cm.cool)"
   ]
  },
  {
   "cell_type": "code",
   "execution_count": 55,
   "metadata": {
    "collapsed": false,
    "deletable": true,
    "editable": true
   },
   "outputs": [
    {
     "name": "stdout",
     "output_type": "stream",
     "text": [
      "New best model found\n",
      "0 epoch, train_err: 0.3488, valid_err: 0.2776\n",
      "New best model found\n",
      "1 epoch, train_err: 0.2553, valid_err: 0.2553\n",
      "New best model found\n",
      "2 epoch, train_err: 0.2528, valid_err: 0.2543\n",
      "New best model found\n",
      "3 epoch, train_err: 0.2521, valid_err: 0.2529\n",
      "New best model found\n",
      "4 epoch, train_err: 0.2512, valid_err: 0.2517\n",
      "New best model found\n",
      "5 epoch, train_err: 0.2502, valid_err: 0.2505\n",
      "New best model found\n",
      "6 epoch, train_err: 0.2492, valid_err: 0.2493\n",
      "New best model found\n",
      "7 epoch, train_err: 0.2481, valid_err: 0.2481\n",
      "New best model found\n",
      "8 epoch, train_err: 0.2469, valid_err: 0.2468\n",
      "New best model found\n",
      "9 epoch, train_err: 0.2456, valid_err: 0.2455\n",
      "New best model found\n",
      "10 epoch, train_err: 0.2441, valid_err: 0.2440\n",
      "New best model found\n",
      "11 epoch, train_err: 0.2425, valid_err: 0.2423\n",
      "New best model found\n",
      "12 epoch, train_err: 0.2406, valid_err: 0.2405\n",
      "New best model found\n",
      "13 epoch, train_err: 0.2384, valid_err: 0.2384\n",
      "New best model found\n",
      "14 epoch, train_err: 0.2360, valid_err: 0.2360\n",
      "New best model found\n",
      "15 epoch, train_err: 0.2332, valid_err: 0.2333\n",
      "New best model found\n",
      "16 epoch, train_err: 0.2300, valid_err: 0.2302\n",
      "New best model found\n",
      "17 epoch, train_err: 0.2264, valid_err: 0.2267\n",
      "New best model found\n",
      "18 epoch, train_err: 0.2223, valid_err: 0.2228\n",
      "New best model found\n",
      "19 epoch, train_err: 0.2177, valid_err: 0.2184\n",
      "New best model found\n",
      "20 epoch, train_err: 0.2126, valid_err: 0.2136\n",
      "New best model found\n",
      "21 epoch, train_err: 0.2071, valid_err: 0.2083\n",
      "New best model found\n",
      "22 epoch, train_err: 0.2011, valid_err: 0.2027\n",
      "New best model found\n",
      "23 epoch, train_err: 0.1947, valid_err: 0.1968\n",
      "New best model found\n",
      "24 epoch, train_err: 0.1880, valid_err: 0.1907\n",
      "New best model found\n",
      "25 epoch, train_err: 0.1811, valid_err: 0.1844\n",
      "New best model found\n",
      "26 epoch, train_err: 0.1742, valid_err: 0.1781\n",
      "New best model found\n",
      "27 epoch, train_err: 0.1672, valid_err: 0.1719\n",
      "New best model found\n",
      "28 epoch, train_err: 0.1604, valid_err: 0.1658\n",
      "New best model found\n",
      "29 epoch, train_err: 0.1538, valid_err: 0.1600\n",
      "New best model found\n",
      "30 epoch, train_err: 0.1474, valid_err: 0.1545\n",
      "New best model found\n",
      "31 epoch, train_err: 0.1415, valid_err: 0.1494\n",
      "New best model found\n",
      "32 epoch, train_err: 0.1359, valid_err: 0.1446\n",
      "New best model found\n",
      "33 epoch, train_err: 0.1307, valid_err: 0.1402\n",
      "New best model found\n",
      "34 epoch, train_err: 0.1259, valid_err: 0.1362\n",
      "New best model found\n",
      "35 epoch, train_err: 0.1215, valid_err: 0.1325\n",
      "New best model found\n",
      "36 epoch, train_err: 0.1175, valid_err: 0.1292\n",
      "New best model found\n",
      "37 epoch, train_err: 0.1138, valid_err: 0.1262\n",
      "New best model found\n",
      "38 epoch, train_err: 0.1105, valid_err: 0.1235\n",
      "New best model found\n",
      "39 epoch, train_err: 0.1074, valid_err: 0.1211\n",
      "New best model found\n",
      "40 epoch, train_err: 0.1047, valid_err: 0.1189\n",
      "New best model found\n",
      "41 epoch, train_err: 0.1022, valid_err: 0.1170\n",
      "New best model found\n",
      "42 epoch, train_err: 0.0999, valid_err: 0.1152\n",
      "New best model found\n",
      "43 epoch, train_err: 0.0978, valid_err: 0.1136\n",
      "New best model found\n",
      "44 epoch, train_err: 0.0959, valid_err: 0.1122\n",
      "New best model found\n",
      "45 epoch, train_err: 0.0941, valid_err: 0.1109\n",
      "New best model found\n",
      "46 epoch, train_err: 0.0925, valid_err: 0.1098\n",
      "New best model found\n",
      "47 epoch, train_err: 0.0910, valid_err: 0.1088\n",
      "New best model found\n",
      "48 epoch, train_err: 0.0897, valid_err: 0.1078\n",
      "New best model found\n",
      "49 epoch, train_err: 0.0884, valid_err: 0.1070\n",
      "New best model found\n",
      "50 epoch, train_err: 0.0873, valid_err: 0.1063\n",
      "New best model found\n",
      "51 epoch, train_err: 0.0862, valid_err: 0.1056\n",
      "New best model found\n",
      "52 epoch, train_err: 0.0852, valid_err: 0.1050\n",
      "New best model found\n",
      "53 epoch, train_err: 0.0843, valid_err: 0.1045\n",
      "New best model found\n",
      "54 epoch, train_err: 0.0835, valid_err: 0.1040\n",
      "New best model found\n",
      "55 epoch, train_err: 0.0827, valid_err: 0.1036\n",
      "New best model found\n",
      "56 epoch, train_err: 0.0819, valid_err: 0.1032\n",
      "New best model found\n",
      "57 epoch, train_err: 0.0812, valid_err: 0.1028\n",
      "New best model found\n",
      "58 epoch, train_err: 0.0806, valid_err: 0.1025\n",
      "59 epoch, train_err: 0.0799, valid_err: 0.1022\n",
      "New best model found\n",
      "60 epoch, train_err: 0.0794, valid_err: 0.1020\n",
      "New best model found\n",
      "61 epoch, train_err: 0.0788, valid_err: 0.1017\n",
      "New best model found\n",
      "62 epoch, train_err: 0.0783, valid_err: 0.1015\n",
      "New best model found\n",
      "63 epoch, train_err: 0.0778, valid_err: 0.1013\n",
      "64 epoch, train_err: 0.0774, valid_err: 0.1012\n",
      "65 epoch, train_err: 0.0769, valid_err: 0.1010\n",
      "New best model found\n",
      "66 epoch, train_err: 0.0765, valid_err: 0.1009\n",
      "New best model found\n",
      "67 epoch, train_err: 0.0761, valid_err: 0.1008\n",
      "New best model found\n",
      "68 epoch, train_err: 0.0757, valid_err: 0.1007\n",
      "New best model found\n",
      "69 epoch, train_err: 0.0754, valid_err: 0.1006\n",
      "New best model found\n",
      "70 epoch, train_err: 0.0750, valid_err: 0.1005\n",
      "71 epoch, train_err: 0.0747, valid_err: 0.1004\n",
      "72 epoch, train_err: 0.0744, valid_err: 0.1004\n",
      "73 epoch, train_err: 0.0741, valid_err: 0.1003\n",
      "74 epoch, train_err: 0.0738, valid_err: 0.1003\n",
      "75 epoch, train_err: 0.0735, valid_err: 0.1002\n",
      "76 epoch, train_err: 0.0732, valid_err: 0.1002\n",
      "77 epoch, train_err: 0.0730, valid_err: 0.1001\n",
      "78 epoch, train_err: 0.0727, valid_err: 0.1001\n",
      "79 epoch, train_err: 0.0725, valid_err: 0.1001\n",
      "80 epoch, train_err: 0.0723, valid_err: 0.1001\n",
      "81 epoch, train_err: 0.0720, valid_err: 0.1001\n",
      "Early stoping, loading back best model\n",
      "0 [-1.25036062 -1.35482937] 0.05  (elvart eredmeny: 0.00)\n",
      "1 [ 0.94101156 -1.35348369] 0.92  (elvart eredmeny: 1.00)\n",
      "2 [ 1.18339093 -0.90499505] 0.91  (elvart eredmeny: 1.00)\n",
      "3 [-0.48531438 -1.63961068] 0.56  (elvart eredmeny: 0.00)\n",
      "4 [ 0.59252845  1.03531973] 0.14  (elvart eredmeny: 0.00)\n",
      "5 [-1.17912398 -0.14964341] 0.25  (elvart eredmeny: 1.00)\n",
      "6 [-0.5347334   1.51238503] 0.94  (elvart eredmeny: 1.00)\n",
      "7 [-1.72772337 -1.16371457] 0.05  (elvart eredmeny: 0.00)\n",
      "8 [ 0.87222648 -0.47210751] 0.71  (elvart eredmeny: 1.00)\n",
      "9 [-1.01668361 -0.74860982] 0.05  (elvart eredmeny: 0.00)\n",
      "10 [ 0.92861742  0.21700874] 0.22  (elvart eredmeny: 0.00)\n",
      "11 [ 0.75530161  1.1847693 ] 0.15  (elvart eredmeny: 0.00)\n",
      "12 [-1.16159487  0.36766612] 0.73  (elvart eredmeny: 1.00)\n",
      "13 [-1.45643719 -0.16641294] 0.44  (elvart eredmeny: 0.00)\n",
      "14 [ 1.54530528 -1.10169509] 0.94  (elvart eredmeny: 1.00)\n",
      "15 [-0.88514308  1.65699953] 0.96  (elvart eredmeny: 1.00)\n",
      "16 [-0.7690007   1.11341207] 0.91  (elvart eredmeny: 1.00)\n",
      "17 [ 0.85218846  1.4105689 ] 0.21  (elvart eredmeny: 0.00)\n",
      "18 [ 0.65101935 -1.19988815] 0.88  (elvart eredmeny: 1.00)\n",
      "19 [ 0.23592429  1.73961378] 0.87  (elvart eredmeny: 0.00)\n"
     ]
    },
    {
     "data": {
      "image/png": "[encoded data removed]",
      "text/plain": [
       "<matplotlib.figure.Figure at 0x7f8e38b2be80>"
      ]
     },
     "metadata": {},
     "output_type": "display_data"
    }
   ],
   "source": [
    "# Tanítás/Tesztelés indítása\n",
    "network.reset()\n",
    "learn(network, samples, 0.2, 0.1)"
   ]
  }
 ],
 "metadata": {
  "kernelspec": {
   "display_name": "Python 3",
   "language": "python",
   "name": "python3"
  },
  "language_info": {
   "codemirror_mode": {
    "name": "ipython",
    "version": 3
   },
   "file_extension": ".py",
   "mimetype": "text/x-python",
   "name": "python",
   "nbconvert_exporter": "python",
   "pygments_lexer": "ipython3",
   "version": "3.5.2"
  }
 },
 "nbformat": 4,
 "nbformat_minor": 0
}
