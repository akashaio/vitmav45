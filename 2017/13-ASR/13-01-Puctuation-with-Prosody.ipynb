{
 "cells": [
  {
   "cell_type": "markdown",
   "metadata": {},
   "source": [
    "# Copyright\n",
    "\n",
    "Jelen iPython notebook a Budapesti Műszaki és Gazdaságtudományi Egyetemen tartott \n",
    "\"Deep Learning a gyakorlatban Python és LUA alapon\" tantárgy segédanyagaként készült.\n",
    "\n",
    "A tantárgy honlapja: http://smartlab.tmit.bme.hu/oktatas-deep-learning \n",
    "Deep Learning kutatás: http://smartlab.tmit.bme.hu/deep-learning\n",
    "\n",
    "A forráskódot GPLv3 licensz védi. Újrafelhasználás esetén lehetőség szerint kérjük az alábbi szerzőket értesíteni.\n",
    "\n",
    "2017 (c) Szaszák György (szaszak kukac tmit pont bme pont hu)\n",
    "         Moró Anna (moro kukac tmit pont bme pont hu)\n"
   ]
  },
  {
   "cell_type": "markdown",
   "metadata": {},
   "source": [
    "A feladat írásjelek predikciója prozódiai információk alapján. A prozódiai egységek (ún. fonológiai frázis) típusát és hosszát, valamint a frázis utáni szünet hosszát készen kapjuk. Gyors, kicsi modellre van szükség a késleltetés kézben tartására és amiatt, hogy a háttérben működő beszédfelismerő elől az erőforrásokat nem vonjuk el. "
   ]
  },
  {
   "cell_type": "code",
   "execution_count": 1,
   "metadata": {},
   "outputs": [
    {
     "name": "stderr",
     "output_type": "stream",
     "text": [
      "Using TensorFlow backend.\n"
     ]
    }
   ],
   "source": [
    "# Importok\n",
    "from __future__ import print_function\n",
    "import os\n",
    "import numpy as np\n",
    "from sklearn import preprocessing\n",
    "np.random.seed(1337)\n",
    "\n",
    "#import keras\n",
    "from keras.utils.np_utils import to_categorical\n",
    "from keras.layers import Dense, Input, Flatten\n",
    "from keras.layers import Dropout, LSTM, Activation, Bidirectional\n",
    "from keras.models import Model,Sequential\n",
    "from keras.callbacks import EarlyStopping, ModelCheckpoint\n",
    "import sys\n",
    "\n",
    "import random\n",
    "\n",
    "nb_features=3\n",
    "logp=\"0\" #sys.argv[1]\n",
    "window=10 #int(sys.argv[2])\n"
   ]
  },
  {
   "cell_type": "code",
   "execution_count": 2,
   "metadata": {},
   "outputs": [],
   "source": [
    "# 7-féle fonológiai (prozódiai) frázis van, ezeknek ismerjük a határait, a sorrendjét és a hosszát\n",
    "pps=[\"sil\",\"me\",\"fe\",\"fs\",\"s\",\"mv\",\"fv\"]\n",
    "pp2int = dict((p, i) for i, p in enumerate(pps))\n",
    "int2pp = dict((i, p) for i, p in enumerate(pps))\n",
    "\n",
    "# 3-féle írásjelet modellezünk most\n",
    "pms=[\"_\",\",\",\".\"]\n",
    "pm2int = dict((p, i) for i, p in enumerate(pms))\n",
    "int2pm = dict((i, p) for i, p in enumerate(pms))\n"
   ]
  },
  {
   "cell_type": "code",
   "execution_count": 3,
   "metadata": {},
   "outputs": [],
   "source": [
    "# Segédfüggvények\n",
    "\n",
    "def pad (data,window,label):\n",
    "    padded=[]\n",
    "    for i in range(window-1):\n",
    "        padded.append(label)\n",
    "    padded+=data\n",
    "    padded.append(label)\n",
    "    return padded\n",
    "\n",
    "def preprocess_data(filename, nb_of_features, window):\n",
    "    \n",
    "    x1=[] # frázisszekvencia -> one-hot szekvencia\n",
    "    x2=[] # frázishosszak (szekvencia)\n",
    "    x3=[] # frázis végéig hátralévő idő (szekvencia)\n",
    "    y0=[] # Írásjel-target szekvencia: minden frázis végére vonatkozik egy-egy címke\n",
    "\n",
    "    with open(filename) as f:\n",
    "        for line in f:\n",
    "            data=line.split(\"\\t\")\n",
    "            x1.append(data[1:-1])\n",
    "\n",
    "            line=f.readline()\n",
    "            data=line.split(\"\\t\")\n",
    "            x2.append(data[1:-1])\n",
    "\n",
    "            line=f.readline()\n",
    "            data=line.split(\"\\t\")\n",
    "            x3.append(data[1:-1])\n",
    "\n",
    "            line=f.readline()\n",
    "            data=line.split(\"\\t\")\n",
    "            y0.append(data[1:-1])\n",
    "\n",
    "            f.readline()\n",
    "            \n",
    "    samples1=[]\n",
    "    samples2=[]\n",
    "    samples3=[]\n",
    "    targets=[]\n",
    "\n",
    "    #Padding\n",
    "    for i in range(len(x1)):\n",
    "        s1=pad(x1[i],window,\"sil\")\n",
    "        s2=pad(x2[i],window,\"0\")\n",
    "        s3=pad(x3[i],window,\"0\")\n",
    "        t0=pad(y0[i],window,\"_\")\n",
    "        \n",
    "        for j in range (len(x1[i])-window):\n",
    "            samples1.append(s1[j:j+window])\n",
    "            samples2.append(s2[j:j+window])\n",
    "            samples3.append(s3[j:j+window])\n",
    "            targets.append(t0[j+window-1])\n",
    "\n",
    "    # Skálázás\n",
    "    samples2=preprocessing.scale(samples2) # z norm\n",
    "    samples3=preprocessing.scale(samples3)\n",
    "    \n",
    "    # Vektorizálás\n",
    "    X = np.zeros((len(samples1), window, len(pps)+nb_of_features-1), dtype=np.float32)\n",
    "    y = np.zeros((len(samples1), len(pms)), dtype=np.float32)\n",
    "    \n",
    "    for i in range(len(samples1)):\n",
    "        for j in range(window):\n",
    "            X[i, j, pp2int[samples1[i][j]]] = 1.0 # fráziscímke one-hot\n",
    "            \n",
    "            if ((nb_of_features == 2) or (nb_of_features == 3)):\n",
    "                X[i, j, len(pps)]=samples2[i][j] # Z-normalizált hossz\n",
    "                \n",
    "            if (nb_of_features == 3):\n",
    "                X[i, j, len(pps)+1]=samples3[i][j] # Z-normalizált hátralávő idő\n",
    "                \n",
    "            y[i, pm2int[targets[i]]] = 1.0\n",
    "\n",
    "    print (filename, \"Shape of x features: \", X.shape)\n",
    "    print (filename, \"Shape of y: \", y.shape)\n",
    "    \n",
    "    return X, y\n",
    "\n",
    "# Az adatok kiegyensúlyozatlanok; nagyon sokszor nincs írásjel, ehhez képest ritka, amikor van, az írásjelből is vessző többször van, mint pont.\n",
    "# Ez a függvény a hibafüggvényt egészíti ki, a hibák attól függően kerülnek súlyozásra, hogy mit rontottunk el\n",
    "def get_class_weights(y, smooth_factor=0):\n",
    "\n",
    "    counter={}\n",
    "    for i in range(max(y)+1):\n",
    "        counter[i]=0\n",
    "    for i in y:\n",
    "        counter[i]+=1\n",
    "\n",
    "    if smooth_factor > 0:\n",
    "        p = max(counter.values()) * smooth_factor\n",
    "        for k in counter.keys():\n",
    "            counter[k] += p\n",
    "\n",
    "    majority = max(counter.values())\n",
    "\n",
    "    return {cls: float(majority / count) for cls, count in counter.items()}\n"
   ]
  },
  {
   "cell_type": "markdown",
   "metadata": {},
   "source": [
    "Az adatok a train.0 és test.0 fájlokban készen állnak a feldolgozásra."
   ]
  },
  {
   "cell_type": "code",
   "execution_count": 5,
   "metadata": {},
   "outputs": [
    {
     "name": "stdout",
     "output_type": "stream",
     "text": [
      "train.0 Shape of x features:  (10289, 10, 9)\n",
      "train.0 Shape of y:  (10289, 3)\n",
      "test.0 Shape of x features:  (1566, 10, 9)\n",
      "test.0 Shape of y:  (1566, 3)\n",
      "X_tr:  (9260, 10, 9) Y_tr:  (9260, 3)\n",
      "X_v:  (1029, 10, 9) Y_v:  (1029, 3)\n"
     ]
    }
   ],
   "source": [
    "# Adatok beolvasása\n",
    "\n",
    "trainset=\"train.\"+logp\n",
    "testset=\"test.\"+logp\n",
    "\n",
    "x_data, y_data = preprocess_data(trainset, nb_features, window)\n",
    "x_test, y_test = preprocess_data(testset, nb_features, window)\n",
    "\n",
    "# Keverés\n",
    "indices = np.arange(x_data.shape[0]) \n",
    "np.random.shuffle(indices)\n",
    "\n",
    "data = x_data[indices]\n",
    "target = y_data[indices]\n",
    "\n",
    "# Validációs halmaz\n",
    "train_data_end = int(len(data)*0.9)\n",
    "\n",
    "x_train = data[:train_data_end]\n",
    "y_train = target[:train_data_end]\n",
    "x_validation = data[train_data_end:]\n",
    "y_validation = target[train_data_end:]\n",
    "\n",
    "print(\"X_tr: \", x_train.shape, \"Y_tr: \", y_train.shape)\n",
    "print(\"X_v: \", x_validation.shape, \"Y_v: \", y_validation.shape)\n",
    "\n",
    "# Adatok kiegyensúlyozása\n",
    "y_classes=np.argmax(y_test,axis=1)\n",
    "class_weights=get_class_weights(y_classes,0.8)"
   ]
  },
  {
   "cell_type": "code",
   "execution_count": 6,
   "metadata": {},
   "outputs": [],
   "source": [
    "# Modell\n",
    "model = Sequential()\n",
    "\n",
    "earlyStopping=EarlyStopping(monitor='val_loss', patience=10, verbose=0, mode='auto')\n",
    "modelCheckpoint=ModelCheckpoint('punctuation_model.h5py', monitor='val_loss', verbose=0, save_best_only=True, save_weights_only=False, mode='auto', period=1)\n",
    "\n",
    "model.add(Bidirectional(LSTM(20,return_sequences=True), \n",
    "                        input_shape=(x_data.shape[1], x_data.shape[2])))\n",
    "model.add(Dropout(0.25))\n",
    "    \n",
    "model.add(Bidirectional(LSTM(20,return_sequences=False)))\n",
    "model.add(Dropout(0.3))\n",
    "\n",
    "\n",
    "model.add(Dense(units=y_data.shape[1], activation='softmax'))\n",
    "\n",
    "model.compile(loss='categorical_crossentropy',\n",
    "              optimizer='adam',\n",
    "              metrics=['acc'])"
   ]
  },
  {
   "cell_type": "code",
   "execution_count": 7,
   "metadata": {},
   "outputs": [
    {
     "name": "stdout",
     "output_type": "stream",
     "text": [
      "Train on 9260 samples, validate on 1029 samples\n",
      "Epoch 1/5\n",
      "9260/9260 [==============================] - 5s 509us/step - loss: 1.0798 - acc: 0.7336 - val_loss: 0.6236 - val_acc: 0.7911\n",
      "Epoch 2/5\n",
      "9260/9260 [==============================] - 4s 384us/step - loss: 0.7859 - acc: 0.8244 - val_loss: 0.4930 - val_acc: 0.8260\n",
      "Epoch 3/5\n",
      "9260/9260 [==============================] - 4s 409us/step - loss: 0.7039 - acc: 0.8405 - val_loss: 0.4889 - val_acc: 0.8328\n",
      "Epoch 4/5\n",
      "9260/9260 [==============================] - 4s 409us/step - loss: 0.6714 - acc: 0.8474 - val_loss: 0.4762 - val_acc: 0.8328\n",
      "Epoch 5/5\n",
      "9260/9260 [==============================] - 4s 459us/step - loss: 0.6522 - acc: 0.8491 - val_loss: 0.4599 - val_acc: 0.8397\n"
     ]
    },
    {
     "data": {
      "text/plain": [
       "<keras.callbacks.History at 0x7fee05522e10>"
      ]
     },
     "execution_count": 7,
     "metadata": {},
     "output_type": "execute_result"
    }
   ],
   "source": [
    "# Tanítás\n",
    "\n",
    "model.fit(x_train, y_train, callbacks=[earlyStopping,modelCheckpoint], \n",
    "          validation_data=(x_validation, y_validation), epochs=5, batch_size=80, class_weight=class_weights)\n"
   ]
  },
  {
   "cell_type": "code",
   "execution_count": 8,
   "metadata": {},
   "outputs": [
    {
     "name": "stdout",
     "output_type": "stream",
     "text": [
      "1566/1566 [==============================] - 0s 169us/step\n",
      "[0.3561590664840445, 0.88314176275660095]\n"
     ]
    }
   ],
   "source": [
    "# Tesztelés accuracy-ra, overall\n",
    "scores=model.evaluate(x_test, y_test)\n",
    "print (scores)"
   ]
  },
  {
   "cell_type": "code",
   "execution_count": 9,
   "metadata": {},
   "outputs": [
    {
     "name": "stdout",
     "output_type": "stream",
     "text": [
      "1566/1566 [==============================] - 0s 231us/step\n"
     ]
    },
    {
     "data": {
      "image/png": "[encoded data removed]",
      "text/plain": [
       "<matplotlib.figure.Figure at 0x7fedfc3df748>"
      ]
     },
     "metadata": {},
     "output_type": "display_data"
    }
   ],
   "source": [
    "# Tesztelés percision/recall, írásjelekre külön\n",
    "from sklearn.metrics import classification_report,confusion_matrix,precision_recall_curve\n",
    "from sklearn import metrics\n",
    "\n",
    "p=model.predict_proba(x_test) # to predict probability\n",
    "proba_comma=p[:,pm2int[',']]\n",
    "true_comma=y_test[:,pm2int[',']]\n",
    "prc_c, rec_c, thr_c = precision_recall_curve(true_comma, proba_comma)\n",
    "\n",
    "proba_period=p[:,pm2int['.']]\n",
    "true_period=y_test[:,pm2int['.']]\n",
    "prc_p, rec_p, thr_p = precision_recall_curve(true_period, proba_period)\n",
    "\n",
    "import matplotlib.pyplot as plt\n",
    "#from scipy.interpolate import interp1d\n",
    "\n",
    "plt.plot(rec_c, prc_c, '-', label='comma')\n",
    "plt.plot(rec_p, prc_p, ':', label='period')\n",
    "plt.legend(loc='lower left')\n",
    "plt.axis([0,1,0,1])\n",
    "plt.xlabel('Recall')\n",
    "plt.ylabel('Precision')\n",
    "plt.title('Punctuation restoration')\n",
    "plt.show()\n"
   ]
  },
  {
   "cell_type": "code",
   "execution_count": 13,
   "metadata": {},
   "outputs": [
    {
     "name": "stdout",
     "output_type": "stream",
     "text": [
      "Area under PR curves:  0.439216735616 0.796700216123\n"
     ]
    }
   ],
   "source": [
    "# AUC\n",
    "auc_c=metrics.auc(prc_c,rec_c,reorder=True)\n",
    "auc_p=metrics.auc(prc_p,rec_p,reorder=True)\n",
    "print (\"Area under PR curves: \", auc_c, auc_p)\n"
   ]
  },
  {
   "cell_type": "code",
   "execution_count": 10,
   "metadata": {},
   "outputs": [
    {
     "name": "stdout",
     "output_type": "stream",
     "text": [
      "1566/1566 [==============================] - 0s 130us/step\n",
      "             precision    recall  f1-score   support\n",
      "\n",
      " class 0(-)     0.9039    0.9914    0.9456      1167\n",
      " class 1(,)     0.8542    0.3388    0.4852       242\n",
      " class 2(.)     0.7579    0.9172    0.8300       157\n",
      "\n",
      "avg / total     0.8816    0.8831    0.8629      1566\n",
      "\n",
      "Confusion matrix, without normalization\n",
      "[[1157    6    4]\n",
      " [ 118   82   42]\n",
      " [   5    8  144]]\n"
     ]
    },
    {
     "data": {
      "image/png": "[encoded data removed]",
      "text/plain": [
       "<matplotlib.figure.Figure at 0x7fee443c1438>"
      ]
     },
     "metadata": {},
     "output_type": "display_data"
    }
   ],
   "source": [
    "# Táblázatosan, ill. tévesztési mátrix\n",
    "y_pred=list(model.predict_classes(x_test))\n",
    "y_ref=list(np.argmax(y_test,axis=1))\n",
    "target_names = ['class 0(-)', 'class 1(,)', 'class 2(.)']\n",
    "print(classification_report(y_ref, y_pred,target_names=target_names,digits=4))\n",
    "cfm=confusion_matrix(y_ref, y_pred)\n",
    "\n",
    "import itertools\n",
    "def plot_confusion_matrix(cm, classes,\n",
    "                          normalize=False,\n",
    "                          title='Confusion matrix',\n",
    "                          cmap=plt.cm.Blues):\n",
    "   \n",
    "    if normalize:\n",
    "        cm = cm.astype('float') / cm.sum(axis=1)[:, np.newaxis]\n",
    "        print(\"Normalized confusion matrix\")\n",
    "    else:\n",
    "        print('Confusion matrix, without normalization')\n",
    "\n",
    "    print(cm)\n",
    "\n",
    "    plt.imshow(cm, interpolation='nearest', cmap=cmap)\n",
    "    plt.title(title)\n",
    "    plt.colorbar()\n",
    "    tick_marks = np.arange(len(classes))\n",
    "    plt.xticks(tick_marks, classes, rotation=45)\n",
    "    plt.yticks(tick_marks, classes)\n",
    "\n",
    "    fmt = '.2f' if normalize else 'd'\n",
    "    thresh = cm.max() / 2.\n",
    "    for i, j in itertools.product(range(cm.shape[0]), range(cm.shape[1])):\n",
    "        plt.text(j, i, format(cm[i, j], fmt),\n",
    "                 horizontalalignment=\"center\",\n",
    "                 color=\"white\" if cm[i, j] > thresh else \"black\")\n",
    "\n",
    "    plt.tight_layout()\n",
    "    plt.ylabel('True label')\n",
    "    plt.xlabel('Predicted label')\n",
    "\n",
    "\n",
    "plt.figure()\n",
    "plot_confusion_matrix(cfm, classes=target_names,\n",
    "                      title='Tévesztési mátix')\n",
    "plt.show()"
   ]
  },
  {
   "cell_type": "code",
   "execution_count": null,
   "metadata": {},
   "outputs": [],
   "source": []
  }
 ],
 "metadata": {
  "kernelspec": {
   "display_name": "Python 3",
   "language": "python",
   "name": "python3"
  },
  "language_info": {
   "codemirror_mode": {
    "name": "ipython",
    "version": 3
   },
   "file_extension": ".py",
   "mimetype": "text/x-python",
   "name": "python",
   "nbconvert_exporter": "python",
   "pygments_lexer": "ipython3",
   "version": "3.4.3"
  }
 },
 "nbformat": 4,
 "nbformat_minor": 2
}
